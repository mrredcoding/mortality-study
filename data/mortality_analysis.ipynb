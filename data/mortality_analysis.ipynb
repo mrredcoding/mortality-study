{
 "cells": [
  {
   "metadata": {},
   "cell_type": "markdown",
   "source": "## Import data",
   "id": "400b349175db6fcf"
  },
  {
   "cell_type": "code",
   "id": "initial_id",
   "metadata": {
    "collapsed": true,
    "ExecuteTime": {
     "end_time": "2025-02-28T10:30:38.287004Z",
     "start_time": "2025-02-28T10:30:38.267329Z"
    }
   },
   "source": [
    "import pandas as pd\n",
    "import seaborn as sns\n",
    "\n",
    "MORTALITY_RATE = pd.read_csv(\"mortality_rate.csv\", delimiter=\";\")"
   ],
   "outputs": [],
   "execution_count": 1
  }
 ],
 "metadata": {
  "kernelspec": {
   "display_name": "Python 3",
   "language": "python",
   "name": "python3"
  },
  "language_info": {
   "codemirror_mode": {
    "name": "ipython",
    "version": 2
   },
   "file_extension": ".py",
   "mimetype": "text/x-python",
   "name": "python",
   "nbconvert_exporter": "python",
   "pygments_lexer": "ipython2",
   "version": "2.7.6"
  }
 },
 "nbformat": 4,
 "nbformat_minor": 5
}
